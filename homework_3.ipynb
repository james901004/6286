{
 "cells": [
  {
   "cell_type": "code",
   "execution_count": 1,
   "metadata": {
    "collapsed": true
   },
   "outputs": [],
   "source": [
    "import numpy"
   ]
  },
  {
   "cell_type": "code",
   "execution_count": 56,
   "metadata": {
    "collapsed": true
   },
   "outputs": [],
   "source": [
    "nx = 81\n",
    "dx = 0.25\n",
    "dt = 0.0002\n",
    "gamma = 1.4\n",
    "t = 0.01\n",
    "nt = int(t/dt)+1"
   ]
  },
  {
   "cell_type": "code",
   "execution_count": 57,
   "metadata": {
    "collapsed": true
   },
   "outputs": [],
   "source": [
    "rho = numpy.ones(nx)\n",
    "rho[40:] = 0.125"
   ]
  },
  {
   "cell_type": "code",
   "execution_count": 58,
   "metadata": {
    "collapsed": true
   },
   "outputs": [],
   "source": [
    "u = numpy.zeros(nx)"
   ]
  },
  {
   "cell_type": "code",
   "execution_count": 59,
   "metadata": {
    "collapsed": true
   },
   "outputs": [],
   "source": [
    "p = numpy.zeros(nx)\n",
    "p[0:40] = 100000.\n",
    "p[40:] = 10000."
   ]
  },
  {
   "cell_type": "code",
   "execution_count": 60,
   "metadata": {
    "collapsed": true
   },
   "outputs": [],
   "source": [
    "eT = p/(gamma-1)/rho + 0.5*u**2\n",
    "\n",
    "u1 = rho\n",
    "u2 = rho*u\n",
    "u3 = rho*eT\n",
    "\n",
    "U = [u1, u2, u3]"
   ]
  },
  {
   "cell_type": "code",
   "execution_count": 61,
   "metadata": {
    "collapsed": true
   },
   "outputs": [],
   "source": [
    "F = numpy.zeros_like(U)\n",
    "\n",
    "Un = numpy.zeros_like(U)\n",
    "Un[:,:] = U.copy()\n",
    "\n",
    "Uhalf = numpy.zeros_like(U)\n",
    "Uhalf[:,:] = U.copy()"
   ]
  },
  {
   "cell_type": "code",
   "execution_count": 62,
   "metadata": {
    "collapsed": true
   },
   "outputs": [],
   "source": [
    "def func_f(U):\n",
    "    \n",
    "    f1 = U[1]\n",
    "    f2 = U[1]**2/U[0]+(gamma-1)*(U[2]-0.5*U[1]**2/U[0])\n",
    "    f3 = (U[2]+(gamma-1)*(U[2]-0.5*U[1]**2/U[0]))*U[1]/U[0]\n",
    "    \n",
    "    F[:,:] = [f1, f2, f3]\n",
    "\n",
    "    return F"
   ]
  },
  {
   "cell_type": "code",
   "execution_count": 63,
   "metadata": {
    "collapsed": false
   },
   "outputs": [],
   "source": [
    "for i in range(1,nt):\n",
    "    F = func_f(Un)\n",
    "    \n",
    "    Uhalf[:,:-1] = 0.5*(Un[:,:-1] + Un[:,1:]) - dt/(2*dx)*(F[:,1:] - F[:,:-1])\n",
    "    Uhalf[:,-1] = Un[:,-1]\n",
    "    Fhalf = func_f(Uhalf)\n",
    "    Un[:,1:] = Un[:,1:] - dt/dx*(Fhalf[:,1:] - Fhalf[:,:-1])"
   ]
  },
  {
   "cell_type": "code",
   "execution_count": 64,
   "metadata": {
    "collapsed": true
   },
   "outputs": [],
   "source": [
    "rho = Un[0][int((10+2.5)/dx)]\n",
    "rhou = Un[1][int((10+2.5)/dx)]\n",
    "rhoeT = Un[2][int((10+2.5)/dx)]"
   ]
  },
  {
   "cell_type": "code",
   "execution_count": 65,
   "metadata": {
    "collapsed": false
   },
   "outputs": [
    {
     "name": "stdout",
     "output_type": "stream",
     "text": [
      "At x=2.5m, velocity is 292.61 m/s\n"
     ]
    }
   ],
   "source": [
    "u = rhou/rho\n",
    "print('At x=2.5m, velocity is {:.2f} m/s'.format(u))"
   ]
  },
  {
   "cell_type": "code",
   "execution_count": 66,
   "metadata": {
    "collapsed": false
   },
   "outputs": [
    {
     "name": "stdout",
     "output_type": "stream",
     "text": [
      "At x=2.5m, pressure is 30250.89 N/m^2\n"
     ]
    }
   ],
   "source": [
    "eT = rhoeT/rho\n",
    "p = (rho*eT - rho*0.5*u**2)*(gamma-1)\n",
    "print('At x=2.5m, pressure is {:.2f} N/m^2'.format(p))"
   ]
  },
  {
   "cell_type": "code",
   "execution_count": 44,
   "metadata": {
    "collapsed": false
   },
   "outputs": [
    {
     "name": "stdout",
     "output_type": "stream",
     "text": [
      "At x=2.5m, density is 0.37 kg/m^3\n"
     ]
    }
   ],
   "source": [
    "print('At x=2.5m, density is {:.2f} kg/m^3'.format(rho))"
   ]
  }
 ],
 "metadata": {
  "kernelspec": {
   "display_name": "Python [default]",
   "language": "python",
   "name": "python3"
  },
  "language_info": {
   "codemirror_mode": {
    "name": "ipython",
    "version": 3
   },
   "file_extension": ".py",
   "mimetype": "text/x-python",
   "name": "python",
   "nbconvert_exporter": "python",
   "pygments_lexer": "ipython3",
   "version": "3.5.2"
  }
 },
 "nbformat": 4,
 "nbformat_minor": 1
}
