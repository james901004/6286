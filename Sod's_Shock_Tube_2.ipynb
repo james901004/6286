{
 "cells": [
  {
   "cell_type": "code",
   "execution_count": 103,
   "metadata": {
    "collapsed": true
   },
   "outputs": [],
   "source": [
    "import numpy "
   ]
  },
  {
   "cell_type": "code",
   "execution_count": 104,
   "metadata": {
    "collapsed": true
   },
   "outputs": [],
   "source": [
    "#Code parameters\n",
    "\n",
    "nx = 81\n",
    "dx = .25\n",
    "dt = .0002   \n",
    "gamma = 1.4\n",
    "\n",
    "# all caculations at time = 0.01s\n",
    "t = 0.01 \n",
    "nt = int(t/dt)+1"
   ]
  },
  {
   "cell_type": "code",
   "execution_count": 105,
   "metadata": {
    "collapsed": false
   },
   "outputs": [],
   "source": [
    "# x=−10m to x=10m\n",
    "x = numpy.linspace(-10, 10, nx)\n",
    "rho = numpy.ones(nx)\n",
    "rho[40:] = 0.125\n",
    "\n",
    "u = numpy.zeros(nx)\n",
    "\n",
    "p = numpy.ones(nx)\n",
    "p[0:40] = 100000.\n",
    "p[40:] = 10000."
   ]
  },
  {
   "cell_type": "code",
   "execution_count": 106,
   "metadata": {
    "collapsed": true
   },
   "outputs": [],
   "source": [
    "#define u\n",
    "eT = p/(gamma-1)/rho + 0.5*u**2\n",
    "\n",
    "u1 = rho\n",
    "u2 = rho*u\n",
    "u3 = rho*eT\n",
    "\n",
    "U = numpy.zeros((3,nx))\n",
    "U[0,] = u1\n",
    "U[1,] = u2\n",
    "U[2,] = u3"
   ]
  },
  {
   "cell_type": "code",
   "execution_count": 107,
   "metadata": {
    "collapsed": true
   },
   "outputs": [],
   "source": [
    "#define f mainly for the usage of following fhalf\n",
    "def func_f(U):\n",
    "    u1 = U[0]\n",
    "    u2 = U[1]\n",
    "    u3 = U[2]\n",
    "    \n",
    "    f = numpy.zeros_like(U)\n",
    "    f1 = u2\n",
    "    f2 = u2**2/u1 + (gamma-1)*(u3 - 0.5*u2**2/u1)\n",
    "    f3 = (u3 + (gamma - 1)*(u3 - 0.5*u2**2/u1))*u2/u1\n",
    "    \n",
    "    f[0] = f1\n",
    "    f[1] = f2\n",
    "    f[2] = f3\n",
    "    \n",
    "    return f"
   ]
  },
  {
   "cell_type": "code",
   "execution_count": 108,
   "metadata": {
    "collapsed": false
   },
   "outputs": [],
   "source": [
    "def func():\n",
    "    \n",
    "    Un = numpy.zeros_like(U)\n",
    "    Uhalf = numpy.zeros_like(U)\n",
    "    \n",
    "    for i in range(1, nt):\n",
    "        Un[:,:] = U.copy()\n",
    "        F = func_f(U)\n",
    "\n",
    "        #get the half step of the function first \n",
    "        Uhalf[:,:-1] = 0.5*(Un[:,1:] + Un[:,:-1]) - (dt/(2*dx))*(F[:,1:] - F[:,:-1])\n",
    "        Uhalf[:,-1] = U[:,-1]\n",
    "        #use the un half to calculate fn half \n",
    "        Fhalf = func_f(Uhalf)\n",
    "        \n",
    "        #the third step use the fn half to get un+1\n",
    "        Un[:,1:-1] = Un[:,1:-1] - (dt/dx)*(Fhalf[:,1:-1] - Fhalf[:,:-2])\n",
    "\n",
    "    return Un\n",
    "\n"
   ]
  },
  {
   "cell_type": "code",
   "execution_count": 109,
   "metadata": {
    "collapsed": false
   },
   "outputs": [],
   "source": [
    "un = func()"
   ]
  },
  {
   "cell_type": "code",
   "execution_count": 110,
   "metadata": {
    "collapsed": false
   },
   "outputs": [],
   "source": [
    "rho = un[0][int((10+2.5)/dx)]\n",
    "rhou = un[1][int((10+2.5)/dx)]\n",
    "rhoeT = un[2][int((10+2.5)/dx)]"
   ]
  },
  {
   "cell_type": "code",
   "execution_count": 114,
   "metadata": {
    "collapsed": false
   },
   "outputs": [
    {
     "name": "stdout",
     "output_type": "stream",
     "text": [
      "At x=2.5m, velocity is 0.00 m/s\n"
     ]
    }
   ],
   "source": [
    "u = rhou/rho\n",
    "print('At x=2.5m, velocity is {:.2f} m/s'.format(u))"
   ]
  },
  {
   "cell_type": "code",
   "execution_count": 115,
   "metadata": {
    "collapsed": false
   },
   "outputs": [
    {
     "name": "stdout",
     "output_type": "stream",
     "text": [
      "At x=2.5m, pressure is 10000.00 N/m^2\n"
     ]
    }
   ],
   "source": [
    "eT = rhoeT/rho\n",
    "p = (rho*eT - rho*0.5*u**2)*(gamma-1)\n",
    "print('At x=2.5m, pressure is {:.2f} N/m^2'.format(p))"
   ]
  },
  {
   "cell_type": "code",
   "execution_count": 116,
   "metadata": {
    "collapsed": false
   },
   "outputs": [
    {
     "name": "stdout",
     "output_type": "stream",
     "text": [
      "At x=2.5m,density is 0.12 kg/m^3\n"
     ]
    }
   ],
   "source": [
    "print('At x=2.5m,density is {:.2f} kg/m^3'.format(rho))"
   ]
  },
  {
   "cell_type": "code",
   "execution_count": null,
   "metadata": {
    "collapsed": true
   },
   "outputs": [],
   "source": []
  },
  {
   "cell_type": "code",
   "execution_count": null,
   "metadata": {
    "collapsed": true
   },
   "outputs": [],
   "source": []
  }
 ],
 "metadata": {
  "anaconda-cloud": {},
  "kernelspec": {
   "display_name": "Python [default]",
   "language": "python",
   "name": "python3"
  },
  "language_info": {
   "codemirror_mode": {
    "name": "ipython",
    "version": 3
   },
   "file_extension": ".py",
   "mimetype": "text/x-python",
   "name": "python",
   "nbconvert_exporter": "python",
   "pygments_lexer": "ipython3",
   "version": "3.5.2"
  }
 },
 "nbformat": 4,
 "nbformat_minor": 1
}
