{
 "cells": [
  {
   "cell_type": "code",
   "execution_count": 23,
   "metadata": {
    "collapsed": false
   },
   "outputs": [],
   "source": [
    "import numpy\n",
    "import math\n",
    "from matplotlib import pyplot\n",
    "%matplotlib inline\n",
    "from matplotlib import rcParams\n",
    "rcParams['font.family'] ='serif'\n",
    "rcParams['font.size'] = 16"
   ]
  },
  {
   "cell_type": "code",
   "execution_count": 47,
   "metadata": {
    "collapsed": false
   },
   "outputs": [],
   "source": [
    "ms =50.\n",
    "g =9.81\n",
    "rho = 1.091\n",
    "ve = 325.\n",
    "CD = 0.15\n",
    "mp0 = 100.0\n",
    "r = 0.5"
   ]
  },
  {
   "cell_type": "code",
   "execution_count": 48,
   "metadata": {
    "collapsed": false
   },
   "outputs": [],
   "source": [
    "A = math.pi*r**2"
   ]
  },
  {
   "cell_type": "code",
   "execution_count": 49,
   "metadata": {
    "collapsed": false
   },
   "outputs": [
    {
     "data": {
      "text/plain": [
       "0.7853981633974483"
      ]
     },
     "execution_count": 49,
     "metadata": {},
     "output_type": "execute_result"
    }
   ],
   "source": [
    "A"
   ]
  },
  {
   "cell_type": "code",
   "execution_count": 86,
   "metadata": {
    "collapsed": false
   },
   "outputs": [],
   "source": [
    "def f(u):\n",
    "    h = u[0]\n",
    "    v = u[1]\n",
    "    return numpy.array([v,\n",
    "                       -g+ve*mpdot(n*dt)/(ms+mp[n])-0.5*rho*v*numpy.abs(v)*CD*A/(ms+mp[n])])"
   ]
  },
  {
   "cell_type": "code",
   "execution_count": 110,
   "metadata": {
    "collapsed": true
   },
   "outputs": [],
   "source": [
    "def euler_step(u, f, dt):\n",
    "    return u + dt * f(u)"
   ]
  },
  {
   "cell_type": "code",
   "execution_count": 198,
   "metadata": {
    "collapsed": false
   },
   "outputs": [],
   "source": [
    "T = 100\n",
    "dt = 0.1\n",
    "N = int(T/dt) + 1\n",
    "t = numpy.linspace(0., T, N)\n",
    "\n",
    "u = numpy.empty([N, 2])"
   ]
  },
  {
   "cell_type": "code",
   "execution_count": 199,
   "metadata": {
    "collapsed": false
   },
   "outputs": [
    {
     "data": {
      "text/plain": [
       "array([[  6.93614259e-310,   6.93614259e-310],\n",
       "       [  1.38379250e-316,   1.38379250e-316],\n",
       "       [  4.94065646e-324,   1.38381305e-316],\n",
       "       ..., \n",
       "       [  1.06195820e+006,   6.93613778e-310],\n",
       "       [  6.93614030e-310,   6.56164885e-302],\n",
       "       [              nan,   0.00000000e+000]])"
      ]
     },
     "execution_count": 199,
     "metadata": {},
     "output_type": "execute_result"
    }
   ],
   "source": [
    "u"
   ]
  },
  {
   "cell_type": "code",
   "execution_count": 200,
   "metadata": {
    "collapsed": true
   },
   "outputs": [],
   "source": [
    "u = numpy.zeros([N, 2])"
   ]
  },
  {
   "cell_type": "code",
   "execution_count": 201,
   "metadata": {
    "collapsed": false
   },
   "outputs": [
    {
     "data": {
      "text/plain": [
       "array([[ 0.,  0.],\n",
       "       [ 0.,  0.],\n",
       "       [ 0.,  0.],\n",
       "       ..., \n",
       "       [ 0.,  0.],\n",
       "       [ 0.,  0.],\n",
       "       [ 0.,  0.]])"
      ]
     },
     "execution_count": 201,
     "metadata": {},
     "output_type": "execute_result"
    }
   ],
   "source": [
    "u"
   ]
  },
  {
   "cell_type": "code",
   "execution_count": 202,
   "metadata": {
    "collapsed": false
   },
   "outputs": [],
   "source": [
    "h0 = 0\n",
    "v0 = 0\n",
    "u[0] = numpy.array([h0,v0])"
   ]
  },
  {
   "cell_type": "code",
   "execution_count": 203,
   "metadata": {
    "collapsed": true
   },
   "outputs": [],
   "source": [
    "def mpdot(t):\n",
    "    if t < 5.0:\n",
    "        return 20.0\n",
    "    else:\n",
    "        return 0."
   ]
  },
  {
   "cell_type": "code",
   "execution_count": 249,
   "metadata": {
    "collapsed": false
   },
   "outputs": [],
   "source": [
    "mp = numpy.empty(N)\n",
    "for n in range (N):\n",
    "    if n < 5/dt:\n",
    "        mp[n] = mp0 - mpdot(n*dt)*n*dt\n",
    "    else:\n",
    "        mp[n]=0"
   ]
  },
  {
   "cell_type": "code",
   "execution_count": 250,
   "metadata": {
    "collapsed": false
   },
   "outputs": [
    {
     "name": "stdout",
     "output_type": "stream",
     "text": [
      "36.0\n"
     ]
    }
   ],
   "source": [
    "print (mp[int(3.2/dt)])"
   ]
  },
  {
   "cell_type": "code",
   "execution_count": 251,
   "metadata": {
    "collapsed": false
   },
   "outputs": [],
   "source": [
    "for n in range(N-1):\n",
    "    u[n+1] = euler_step(u[n], f, dt)"
   ]
  },
  {
   "cell_type": "code",
   "execution_count": 252,
   "metadata": {
    "collapsed": true
   },
   "outputs": [],
   "source": [
    "h = u[:,0]\n",
    "v = u[:,1]"
   ]
  },
  {
   "cell_type": "code",
   "execution_count": 253,
   "metadata": {
    "collapsed": false
   },
   "outputs": [
    {
     "data": {
      "text/plain": [
       "232.10613341261791"
      ]
     },
     "execution_count": 253,
     "metadata": {},
     "output_type": "execute_result"
    }
   ],
   "source": [
    "u[int(5/dt),1]"
   ]
  },
  {
   "cell_type": "code",
   "execution_count": 254,
   "metadata": {
    "collapsed": false
   },
   "outputs": [
    {
     "data": {
      "text/plain": [
       "523.52283429184763"
      ]
     },
     "execution_count": 254,
     "metadata": {},
     "output_type": "execute_result"
    }
   ],
   "source": [
    "u[int(5/dt),0]"
   ]
  },
  {
   "cell_type": "code",
   "execution_count": 255,
   "metadata": {
    "collapsed": false
   },
   "outputs": [
    {
     "name": "stdout",
     "output_type": "stream",
     "text": [
      "h = 1334.18  t=15.700000000000001s\n"
     ]
    }
   ],
   "source": [
    "for n in range(N):\n",
    "    if u[n,1] < 0:\n",
    "        print ('h = {:.2f} '.format(u[n, 0]),'t={}s'. format(n*dt))\n",
    "        break\n",
    "    "
   ]
  },
  {
   "cell_type": "code",
   "execution_count": 256,
   "metadata": {
    "collapsed": false
   },
   "outputs": [
    {
     "name": "stdout",
     "output_type": "stream",
     "text": [
      "t = 37.1 s v=-86.01 m/s\n",
      "t = 37.2 s v=-86.04 m/s\n",
      "t = 37.300000000000004 s v=-86.07 m/s\n",
      "t = 37.4 s v=-86.10 m/s\n",
      "t = 37.5 s v=-86.12 m/s\n",
      "t = 37.6 s v=-86.15 m/s\n",
      "t = 37.7 s v=-86.18 m/s\n",
      "t = 37.800000000000004 s v=-86.20 m/s\n",
      "t = 37.9 s v=-86.23 m/s\n",
      "t = 38.0 s v=-86.26 m/s\n",
      "t = 38.1 s v=-86.28 m/s\n",
      "t = 38.2 s v=-86.30 m/s\n",
      "t = 38.300000000000004 s v=-86.33 m/s\n",
      "t = 38.400000000000006 s v=-86.35 m/s\n",
      "t = 38.5 s v=-86.37 m/s\n",
      "t = 38.6 s v=-86.40 m/s\n",
      "t = 38.7 s v=-86.42 m/s\n",
      "t = 38.800000000000004 s v=-86.44 m/s\n",
      "t = 38.900000000000006 s v=-86.46 m/s\n",
      "t = 39.0 s v=-86.48 m/s\n",
      "t = 39.1 s v=-86.50 m/s\n",
      "t = 39.2 s v=-86.52 m/s\n",
      "t = 39.300000000000004 s v=-86.54 m/s\n",
      "t = 39.400000000000006 s v=-86.56 m/s\n",
      "t = 39.5 s v=-86.57 m/s\n",
      "t = 39.6 s v=-86.59 m/s\n",
      "t = 39.7 s v=-86.61 m/s\n",
      "t = 39.800000000000004 s v=-86.63 m/s\n",
      "t = 39.900000000000006 s v=-86.64 m/s\n",
      "t = 40.0 s v=-86.66 m/s\n",
      "t = 40.1 s v=-86.67 m/s\n",
      "t = 40.2 s v=-86.69 m/s\n",
      "t = 40.300000000000004 s v=-86.71 m/s\n",
      "t = 40.400000000000006 s v=-86.72 m/s\n",
      "t = 40.5 s v=-86.73 m/s\n",
      "t = 40.6 s v=-86.75 m/s\n",
      "t = 40.7 s v=-86.76 m/s\n",
      "t = 40.800000000000004 s v=-86.78 m/s\n",
      "t = 40.900000000000006 s v=-86.79 m/s\n",
      "t = 41.0 s v=-86.80 m/s\n",
      "t = 41.1 s v=-86.81 m/s\n",
      "t = 41.2 s v=-86.83 m/s\n",
      "t = 41.300000000000004 s v=-86.84 m/s\n",
      "t = 41.400000000000006 s v=-86.85 m/s\n",
      "t = 41.5 s v=-86.86 m/s\n",
      "t = 41.6 s v=-86.87 m/s\n",
      "t = 41.7 s v=-86.88 m/s\n",
      "t = 41.800000000000004 s v=-86.89 m/s\n",
      "t = 41.900000000000006 s v=-86.91 m/s\n",
      "t = 42.0 s v=-86.92 m/s\n",
      "t = 42.1 s v=-86.93 m/s\n",
      "t = 42.2 s v=-86.94 m/s\n",
      "t = 42.300000000000004 s v=-86.95 m/s\n",
      "t = 42.400000000000006 s v=-86.95 m/s\n",
      "t = 42.5 s v=-86.96 m/s\n",
      "t = 42.6 s v=-86.97 m/s\n",
      "t = 42.7 s v=-86.98 m/s\n",
      "t = 42.800000000000004 s v=-86.99 m/s\n",
      "t = 42.900000000000006 s v=-87.00 m/s\n",
      "t = 43.0 s v=-87.01 m/s\n",
      "t = 43.1 s v=-87.01 m/s\n",
      "t = 43.2 s v=-87.02 m/s\n",
      "t = 43.300000000000004 s v=-87.03 m/s\n",
      "t = 43.400000000000006 s v=-87.04 m/s\n",
      "t = 43.5 s v=-87.04 m/s\n",
      "t = 43.6 s v=-87.05 m/s\n",
      "t = 43.7 s v=-87.06 m/s\n",
      "t = 43.800000000000004 s v=-87.07 m/s\n",
      "t = 43.900000000000006 s v=-87.07 m/s\n",
      "t = 44.0 s v=-87.08 m/s\n",
      "t = 44.1 s v=-87.09 m/s\n",
      "t = 44.2 s v=-87.09 m/s\n",
      "t = 44.300000000000004 s v=-87.10 m/s\n",
      "t = 44.400000000000006 s v=-87.10 m/s\n",
      "t = 44.5 s v=-87.11 m/s\n",
      "t = 44.6 s v=-87.12 m/s\n",
      "t = 44.7 s v=-87.12 m/s\n",
      "t = 44.800000000000004 s v=-87.13 m/s\n",
      "t = 44.900000000000006 s v=-87.13 m/s\n",
      "t = 45.0 s v=-87.14 m/s\n",
      "t = 45.1 s v=-87.14 m/s\n",
      "t = 45.2 s v=-87.15 m/s\n",
      "t = 45.300000000000004 s v=-87.15 m/s\n",
      "t = 45.400000000000006 s v=-87.16 m/s\n",
      "t = 45.5 s v=-87.16 m/s\n",
      "t = 45.6 s v=-87.17 m/s\n",
      "t = 45.7 s v=-87.17 m/s\n",
      "t = 45.800000000000004 s v=-87.17 m/s\n",
      "t = 45.900000000000006 s v=-87.18 m/s\n",
      "t = 46.0 s v=-87.18 m/s\n",
      "t = 46.1 s v=-87.19 m/s\n",
      "t = 46.2 s v=-87.19 m/s\n",
      "t = 46.300000000000004 s v=-87.19 m/s\n",
      "t = 46.400000000000006 s v=-87.20 m/s\n",
      "t = 46.5 s v=-87.20 m/s\n",
      "t = 46.6 s v=-87.21 m/s\n",
      "t = 46.7 s v=-87.21 m/s\n",
      "t = 46.800000000000004 s v=-87.21 m/s\n",
      "t = 46.900000000000006 s v=-87.22 m/s\n",
      "t = 47.0 s v=-87.22 m/s\n",
      "t = 47.1 s v=-87.22 m/s\n",
      "t = 47.2 s v=-87.23 m/s\n",
      "t = 47.300000000000004 s v=-87.23 m/s\n",
      "t = 47.400000000000006 s v=-87.23 m/s\n",
      "t = 47.5 s v=-87.24 m/s\n",
      "t = 47.6 s v=-87.24 m/s\n",
      "t = 47.7 s v=-87.24 m/s\n",
      "t = 47.800000000000004 s v=-87.24 m/s\n",
      "t = 47.900000000000006 s v=-87.25 m/s\n",
      "t = 48.0 s v=-87.25 m/s\n",
      "t = 48.1 s v=-87.25 m/s\n",
      "t = 48.2 s v=-87.25 m/s\n",
      "t = 48.300000000000004 s v=-87.26 m/s\n",
      "t = 48.400000000000006 s v=-87.26 m/s\n",
      "t = 48.5 s v=-87.26 m/s\n",
      "t = 48.6 s v=-87.26 m/s\n",
      "t = 48.7 s v=-87.27 m/s\n",
      "t = 48.800000000000004 s v=-87.27 m/s\n",
      "t = 48.900000000000006 s v=-87.27 m/s\n",
      "t = 49.0 s v=-87.27 m/s\n",
      "t = 49.1 s v=-87.27 m/s\n",
      "t = 49.2 s v=-87.28 m/s\n",
      "t = 49.300000000000004 s v=-87.28 m/s\n",
      "t = 49.400000000000006 s v=-87.28 m/s\n",
      "t = 49.5 s v=-87.28 m/s\n",
      "t = 49.6 s v=-87.28 m/s\n",
      "t = 49.7 s v=-87.29 m/s\n",
      "t = 49.800000000000004 s v=-87.29 m/s\n",
      "t = 49.900000000000006 s v=-87.29 m/s\n",
      "t = 50.0 s v=-87.29 m/s\n",
      "t = 50.1 s v=-87.29 m/s\n",
      "t = 50.2 s v=-87.29 m/s\n",
      "t = 50.300000000000004 s v=-87.30 m/s\n",
      "t = 50.400000000000006 s v=-87.30 m/s\n",
      "t = 50.5 s v=-87.30 m/s\n",
      "t = 50.6 s v=-87.30 m/s\n",
      "t = 50.7 s v=-87.30 m/s\n",
      "t = 50.800000000000004 s v=-87.30 m/s\n",
      "t = 50.900000000000006 s v=-87.30 m/s\n",
      "t = 51.0 s v=-87.31 m/s\n",
      "t = 51.1 s v=-87.31 m/s\n",
      "t = 51.2 s v=-87.31 m/s\n",
      "t = 51.300000000000004 s v=-87.31 m/s\n",
      "t = 51.400000000000006 s v=-87.31 m/s\n",
      "t = 51.5 s v=-87.31 m/s\n",
      "t = 51.6 s v=-87.31 m/s\n",
      "t = 51.7 s v=-87.31 m/s\n",
      "t = 51.800000000000004 s v=-87.32 m/s\n",
      "t = 51.900000000000006 s v=-87.32 m/s\n",
      "t = 52.0 s v=-87.32 m/s\n",
      "t = 52.1 s v=-87.32 m/s\n",
      "t = 52.2 s v=-87.32 m/s\n",
      "t = 52.300000000000004 s v=-87.32 m/s\n",
      "t = 52.400000000000006 s v=-87.32 m/s\n",
      "t = 52.5 s v=-87.32 m/s\n",
      "t = 52.6 s v=-87.32 m/s\n",
      "t = 52.7 s v=-87.32 m/s\n",
      "t = 52.800000000000004 s v=-87.33 m/s\n",
      "t = 52.900000000000006 s v=-87.33 m/s\n",
      "t = 53.0 s v=-87.33 m/s\n",
      "t = 53.1 s v=-87.33 m/s\n",
      "t = 53.2 s v=-87.33 m/s\n",
      "t = 53.300000000000004 s v=-87.33 m/s\n",
      "t = 53.400000000000006 s v=-87.33 m/s\n",
      "t = 53.5 s v=-87.33 m/s\n",
      "t = 53.6 s v=-87.33 m/s\n",
      "t = 53.7 s v=-87.33 m/s\n",
      "t = 53.800000000000004 s v=-87.33 m/s\n",
      "t = 53.900000000000006 s v=-87.33 m/s\n",
      "t = 54.0 s v=-87.33 m/s\n",
      "t = 54.1 s v=-87.34 m/s\n",
      "t = 54.2 s v=-87.34 m/s\n",
      "t = 54.300000000000004 s v=-87.34 m/s\n",
      "t = 54.400000000000006 s v=-87.34 m/s\n",
      "t = 54.5 s v=-87.34 m/s\n",
      "t = 54.6 s v=-87.34 m/s\n",
      "t = 54.7 s v=-87.34 m/s\n",
      "t = 54.800000000000004 s v=-87.34 m/s\n",
      "t = 54.900000000000006 s v=-87.34 m/s\n",
      "t = 55.0 s v=-87.34 m/s\n",
      "t = 55.1 s v=-87.34 m/s\n",
      "t = 55.2 s v=-87.34 m/s\n",
      "t = 55.300000000000004 s v=-87.34 m/s\n",
      "t = 55.400000000000006 s v=-87.34 m/s\n",
      "t = 55.5 s v=-87.34 m/s\n",
      "t = 55.6 s v=-87.34 m/s\n",
      "t = 55.7 s v=-87.34 m/s\n",
      "t = 55.800000000000004 s v=-87.34 m/s\n",
      "t = 55.900000000000006 s v=-87.34 m/s\n",
      "t = 56.0 s v=-87.35 m/s\n",
      "t = 56.1 s v=-87.35 m/s\n",
      "t = 56.2 s v=-87.35 m/s\n",
      "t = 56.300000000000004 s v=-87.35 m/s\n",
      "t = 56.400000000000006 s v=-87.35 m/s\n",
      "t = 56.5 s v=-87.35 m/s\n",
      "t = 56.6 s v=-87.35 m/s\n",
      "t = 56.7 s v=-87.35 m/s\n",
      "t = 56.800000000000004 s v=-87.35 m/s\n",
      "t = 56.900000000000006 s v=-87.35 m/s\n",
      "t = 57.0 s v=-87.35 m/s\n",
      "t = 57.1 s v=-87.35 m/s\n",
      "t = 57.2 s v=-87.35 m/s\n",
      "t = 57.300000000000004 s v=-87.35 m/s\n",
      "t = 57.400000000000006 s v=-87.35 m/s\n",
      "t = 57.5 s v=-87.35 m/s\n",
      "t = 57.6 s v=-87.35 m/s\n",
      "t = 57.7 s v=-87.35 m/s\n",
      "t = 57.800000000000004 s v=-87.35 m/s\n",
      "t = 57.900000000000006 s v=-87.35 m/s\n",
      "t = 58.0 s v=-87.35 m/s\n",
      "t = 58.1 s v=-87.35 m/s\n",
      "t = 58.2 s v=-87.35 m/s\n",
      "t = 58.300000000000004 s v=-87.35 m/s\n",
      "t = 58.400000000000006 s v=-87.35 m/s\n",
      "t = 58.5 s v=-87.35 m/s\n",
      "t = 58.6 s v=-87.35 m/s\n",
      "t = 58.7 s v=-87.35 m/s\n",
      "t = 58.800000000000004 s v=-87.35 m/s\n",
      "t = 58.900000000000006 s v=-87.35 m/s\n",
      "t = 59.0 s v=-87.35 m/s\n",
      "t = 59.1 s v=-87.35 m/s\n",
      "t = 59.2 s v=-87.35 m/s\n",
      "t = 59.300000000000004 s v=-87.35 m/s\n",
      "t = 59.400000000000006 s v=-87.36 m/s\n",
      "t = 59.5 s v=-87.36 m/s\n",
      "t = 59.6 s v=-87.36 m/s\n",
      "t = 59.7 s v=-87.36 m/s\n",
      "t = 59.800000000000004 s v=-87.36 m/s\n",
      "t = 59.900000000000006 s v=-87.36 m/s\n",
      "t = 60.0 s v=-87.36 m/s\n",
      "t = 60.1 s v=-87.36 m/s\n",
      "t = 60.2 s v=-87.36 m/s\n",
      "t = 60.300000000000004 s v=-87.36 m/s\n",
      "t = 60.400000000000006 s v=-87.36 m/s\n",
      "t = 60.5 s v=-87.36 m/s\n",
      "t = 60.6 s v=-87.36 m/s\n",
      "t = 60.7 s v=-87.36 m/s\n",
      "t = 60.800000000000004 s v=-87.36 m/s\n",
      "t = 60.900000000000006 s v=-87.36 m/s\n",
      "t = 61.0 s v=-87.36 m/s\n",
      "t = 61.1 s v=-87.36 m/s\n",
      "t = 61.2 s v=-87.36 m/s\n",
      "t = 61.300000000000004 s v=-87.36 m/s\n",
      "t = 61.400000000000006 s v=-87.36 m/s\n",
      "t = 61.5 s v=-87.36 m/s\n",
      "t = 61.6 s v=-87.36 m/s\n",
      "t = 61.7 s v=-87.36 m/s\n",
      "t = 61.800000000000004 s v=-87.36 m/s\n",
      "t = 61.900000000000006 s v=-87.36 m/s\n",
      "t = 62.0 s v=-87.36 m/s\n",
      "t = 62.1 s v=-87.36 m/s\n",
      "t = 62.2 s v=-87.36 m/s\n",
      "t = 62.300000000000004 s v=-87.36 m/s\n",
      "t = 62.400000000000006 s v=-87.36 m/s\n",
      "t = 62.5 s v=-87.36 m/s\n",
      "t = 62.6 s v=-87.36 m/s\n",
      "t = 62.7 s v=-87.36 m/s\n",
      "t = 62.800000000000004 s v=-87.36 m/s\n",
      "t = 62.900000000000006 s v=-87.36 m/s\n",
      "t = 63.0 s v=-87.36 m/s\n",
      "t = 63.1 s v=-87.36 m/s\n",
      "t = 63.2 s v=-87.36 m/s\n",
      "t = 63.300000000000004 s v=-87.36 m/s\n",
      "t = 63.400000000000006 s v=-87.36 m/s\n",
      "t = 63.5 s v=-87.36 m/s\n",
      "t = 63.6 s v=-87.36 m/s\n",
      "t = 63.7 s v=-87.36 m/s\n",
      "t = 63.800000000000004 s v=-87.36 m/s\n",
      "t = 63.900000000000006 s v=-87.36 m/s\n",
      "t = 64.0 s v=-87.36 m/s\n",
      "t = 64.10000000000001 s v=-87.36 m/s\n",
      "t = 64.2 s v=-87.36 m/s\n",
      "t = 64.3 s v=-87.36 m/s\n",
      "t = 64.4 s v=-87.36 m/s\n",
      "t = 64.5 s v=-87.36 m/s\n",
      "t = 64.60000000000001 s v=-87.36 m/s\n",
      "t = 64.7 s v=-87.36 m/s\n",
      "t = 64.8 s v=-87.36 m/s\n",
      "t = 64.9 s v=-87.36 m/s\n",
      "t = 65.0 s v=-87.36 m/s\n",
      "t = 65.10000000000001 s v=-87.36 m/s\n",
      "t = 65.2 s v=-87.36 m/s\n",
      "t = 65.3 s v=-87.36 m/s\n",
      "t = 65.4 s v=-87.36 m/s\n",
      "t = 65.5 s v=-87.36 m/s\n",
      "t = 65.60000000000001 s v=-87.36 m/s\n",
      "t = 65.7 s v=-87.36 m/s\n",
      "t = 65.8 s v=-87.36 m/s\n",
      "t = 65.9 s v=-87.36 m/s\n",
      "t = 66.0 s v=-87.36 m/s\n",
      "t = 66.10000000000001 s v=-87.36 m/s\n",
      "t = 66.2 s v=-87.36 m/s\n",
      "t = 66.3 s v=-87.36 m/s\n",
      "t = 66.4 s v=-87.36 m/s\n",
      "t = 66.5 s v=-87.36 m/s\n",
      "t = 66.60000000000001 s v=-87.36 m/s\n",
      "t = 66.7 s v=-87.36 m/s\n",
      "t = 66.8 s v=-87.36 m/s\n",
      "t = 66.9 s v=-87.36 m/s\n",
      "t = 67.0 s v=-87.36 m/s\n",
      "t = 67.10000000000001 s v=-87.36 m/s\n",
      "t = 67.2 s v=-87.36 m/s\n",
      "t = 67.3 s v=-87.36 m/s\n",
      "t = 67.4 s v=-87.36 m/s\n",
      "t = 67.5 s v=-87.36 m/s\n",
      "t = 67.60000000000001 s v=-87.36 m/s\n",
      "t = 67.7 s v=-87.36 m/s\n",
      "t = 67.8 s v=-87.36 m/s\n",
      "t = 67.9 s v=-87.36 m/s\n",
      "t = 68.0 s v=-87.36 m/s\n",
      "t = 68.10000000000001 s v=-87.36 m/s\n",
      "t = 68.2 s v=-87.36 m/s\n",
      "t = 68.3 s v=-87.36 m/s\n",
      "t = 68.4 s v=-87.36 m/s\n",
      "t = 68.5 s v=-87.36 m/s\n",
      "t = 68.60000000000001 s v=-87.36 m/s\n",
      "t = 68.7 s v=-87.36 m/s\n",
      "t = 68.8 s v=-87.36 m/s\n",
      "t = 68.9 s v=-87.36 m/s\n",
      "t = 69.0 s v=-87.36 m/s\n",
      "t = 69.10000000000001 s v=-87.36 m/s\n",
      "t = 69.2 s v=-87.36 m/s\n",
      "t = 69.3 s v=-87.36 m/s\n",
      "t = 69.4 s v=-87.36 m/s\n",
      "t = 69.5 s v=-87.36 m/s\n",
      "t = 69.60000000000001 s v=-87.36 m/s\n",
      "t = 69.7 s v=-87.36 m/s\n",
      "t = 69.8 s v=-87.36 m/s\n",
      "t = 69.9 s v=-87.36 m/s\n",
      "t = 70.0 s v=-87.36 m/s\n",
      "t = 70.10000000000001 s v=-87.36 m/s\n",
      "t = 70.2 s v=-87.36 m/s\n",
      "t = 70.3 s v=-87.36 m/s\n",
      "t = 70.4 s v=-87.36 m/s\n",
      "t = 70.5 s v=-87.36 m/s\n",
      "t = 70.60000000000001 s v=-87.36 m/s\n",
      "t = 70.7 s v=-87.36 m/s\n",
      "t = 70.8 s v=-87.36 m/s\n",
      "t = 70.9 s v=-87.36 m/s\n",
      "t = 71.0 s v=-87.36 m/s\n",
      "t = 71.10000000000001 s v=-87.36 m/s\n",
      "t = 71.2 s v=-87.36 m/s\n",
      "t = 71.3 s v=-87.36 m/s\n",
      "t = 71.4 s v=-87.36 m/s\n",
      "t = 71.5 s v=-87.36 m/s\n",
      "t = 71.60000000000001 s v=-87.36 m/s\n",
      "t = 71.7 s v=-87.36 m/s\n",
      "t = 71.8 s v=-87.36 m/s\n",
      "t = 71.9 s v=-87.36 m/s\n",
      "t = 72.0 s v=-87.36 m/s\n",
      "t = 72.10000000000001 s v=-87.36 m/s\n",
      "t = 72.2 s v=-87.36 m/s\n",
      "t = 72.3 s v=-87.36 m/s\n",
      "t = 72.4 s v=-87.36 m/s\n",
      "t = 72.5 s v=-87.36 m/s\n",
      "t = 72.60000000000001 s v=-87.36 m/s\n",
      "t = 72.7 s v=-87.36 m/s\n",
      "t = 72.8 s v=-87.36 m/s\n",
      "t = 72.9 s v=-87.36 m/s\n",
      "t = 73.0 s v=-87.36 m/s\n",
      "t = 73.10000000000001 s v=-87.36 m/s\n",
      "t = 73.2 s v=-87.36 m/s\n",
      "t = 73.3 s v=-87.36 m/s\n",
      "t = 73.4 s v=-87.36 m/s\n",
      "t = 73.5 s v=-87.36 m/s\n",
      "t = 73.60000000000001 s v=-87.36 m/s\n",
      "t = 73.7 s v=-87.36 m/s\n",
      "t = 73.8 s v=-87.36 m/s\n",
      "t = 73.9 s v=-87.36 m/s\n",
      "t = 74.0 s v=-87.36 m/s\n",
      "t = 74.10000000000001 s v=-87.36 m/s\n",
      "t = 74.2 s v=-87.36 m/s\n",
      "t = 74.3 s v=-87.36 m/s\n",
      "t = 74.4 s v=-87.36 m/s\n",
      "t = 74.5 s v=-87.36 m/s\n",
      "t = 74.60000000000001 s v=-87.36 m/s\n",
      "t = 74.7 s v=-87.36 m/s\n",
      "t = 74.8 s v=-87.36 m/s\n",
      "t = 74.9 s v=-87.36 m/s\n",
      "t = 75.0 s v=-87.36 m/s\n",
      "t = 75.10000000000001 s v=-87.36 m/s\n",
      "t = 75.2 s v=-87.36 m/s\n",
      "t = 75.3 s v=-87.36 m/s\n",
      "t = 75.4 s v=-87.36 m/s\n",
      "t = 75.5 s v=-87.36 m/s\n",
      "t = 75.60000000000001 s v=-87.36 m/s\n",
      "t = 75.7 s v=-87.36 m/s\n",
      "t = 75.8 s v=-87.36 m/s\n",
      "t = 75.9 s v=-87.36 m/s\n",
      "t = 76.0 s v=-87.36 m/s\n",
      "t = 76.10000000000001 s v=-87.36 m/s\n",
      "t = 76.2 s v=-87.36 m/s\n",
      "t = 76.3 s v=-87.36 m/s\n",
      "t = 76.4 s v=-87.36 m/s\n",
      "t = 76.5 s v=-87.36 m/s\n",
      "t = 76.60000000000001 s v=-87.36 m/s\n",
      "t = 76.7 s v=-87.36 m/s\n",
      "t = 76.80000000000001 s v=-87.36 m/s\n",
      "t = 76.9 s v=-87.36 m/s\n",
      "t = 77.0 s v=-87.36 m/s\n",
      "t = 77.10000000000001 s v=-87.36 m/s\n",
      "t = 77.2 s v=-87.36 m/s\n",
      "t = 77.30000000000001 s v=-87.36 m/s\n",
      "t = 77.4 s v=-87.36 m/s\n",
      "t = 77.5 s v=-87.36 m/s\n",
      "t = 77.60000000000001 s v=-87.36 m/s\n",
      "t = 77.7 s v=-87.36 m/s\n",
      "t = 77.80000000000001 s v=-87.36 m/s\n",
      "t = 77.9 s v=-87.36 m/s\n",
      "t = 78.0 s v=-87.36 m/s\n",
      "t = 78.10000000000001 s v=-87.36 m/s\n",
      "t = 78.2 s v=-87.36 m/s\n",
      "t = 78.30000000000001 s v=-87.36 m/s\n",
      "t = 78.4 s v=-87.36 m/s\n",
      "t = 78.5 s v=-87.36 m/s\n",
      "t = 78.60000000000001 s v=-87.36 m/s\n",
      "t = 78.7 s v=-87.36 m/s\n",
      "t = 78.80000000000001 s v=-87.36 m/s\n",
      "t = 78.9 s v=-87.36 m/s\n",
      "t = 79.0 s v=-87.36 m/s\n",
      "t = 79.10000000000001 s v=-87.36 m/s\n",
      "t = 79.2 s v=-87.36 m/s\n",
      "t = 79.30000000000001 s v=-87.36 m/s\n",
      "t = 79.4 s v=-87.36 m/s\n",
      "t = 79.5 s v=-87.36 m/s\n",
      "t = 79.60000000000001 s v=-87.36 m/s\n",
      "t = 79.7 s v=-87.36 m/s\n",
      "t = 79.80000000000001 s v=-87.36 m/s\n",
      "t = 79.9 s v=-87.36 m/s\n",
      "t = 80.0 s v=-87.36 m/s\n",
      "t = 80.10000000000001 s v=-87.36 m/s\n",
      "t = 80.2 s v=-87.36 m/s\n",
      "t = 80.30000000000001 s v=-87.36 m/s\n",
      "t = 80.4 s v=-87.36 m/s\n",
      "t = 80.5 s v=-87.36 m/s\n",
      "t = 80.60000000000001 s v=-87.36 m/s\n",
      "t = 80.7 s v=-87.36 m/s\n",
      "t = 80.80000000000001 s v=-87.36 m/s\n",
      "t = 80.9 s v=-87.36 m/s\n",
      "t = 81.0 s v=-87.36 m/s\n",
      "t = 81.10000000000001 s v=-87.36 m/s\n",
      "t = 81.2 s v=-87.36 m/s\n",
      "t = 81.30000000000001 s v=-87.36 m/s\n",
      "t = 81.4 s v=-87.36 m/s\n",
      "t = 81.5 s v=-87.36 m/s\n",
      "t = 81.60000000000001 s v=-87.36 m/s\n",
      "t = 81.7 s v=-87.36 m/s\n",
      "t = 81.80000000000001 s v=-87.36 m/s\n",
      "t = 81.9 s v=-87.36 m/s\n",
      "t = 82.0 s v=-87.36 m/s\n",
      "t = 82.10000000000001 s v=-87.36 m/s\n",
      "t = 82.2 s v=-87.36 m/s\n",
      "t = 82.30000000000001 s v=-87.36 m/s\n",
      "t = 82.4 s v=-87.36 m/s\n",
      "t = 82.5 s v=-87.36 m/s\n",
      "t = 82.60000000000001 s v=-87.36 m/s\n",
      "t = 82.7 s v=-87.36 m/s\n",
      "t = 82.80000000000001 s v=-87.36 m/s\n",
      "t = 82.9 s v=-87.36 m/s\n",
      "t = 83.0 s v=-87.36 m/s\n",
      "t = 83.10000000000001 s v=-87.36 m/s\n",
      "t = 83.2 s v=-87.36 m/s\n",
      "t = 83.30000000000001 s v=-87.36 m/s\n",
      "t = 83.4 s v=-87.36 m/s\n",
      "t = 83.5 s v=-87.36 m/s\n",
      "t = 83.60000000000001 s v=-87.36 m/s\n",
      "t = 83.7 s v=-87.36 m/s\n",
      "t = 83.80000000000001 s v=-87.36 m/s\n",
      "t = 83.9 s v=-87.36 m/s\n",
      "t = 84.0 s v=-87.36 m/s\n",
      "t = 84.10000000000001 s v=-87.36 m/s\n",
      "t = 84.2 s v=-87.36 m/s\n",
      "t = 84.30000000000001 s v=-87.36 m/s\n",
      "t = 84.4 s v=-87.36 m/s\n",
      "t = 84.5 s v=-87.36 m/s\n",
      "t = 84.60000000000001 s v=-87.36 m/s\n",
      "t = 84.7 s v=-87.36 m/s\n",
      "t = 84.80000000000001 s v=-87.36 m/s\n",
      "t = 84.9 s v=-87.36 m/s\n",
      "t = 85.0 s v=-87.36 m/s\n",
      "t = 85.10000000000001 s v=-87.36 m/s\n",
      "t = 85.2 s v=-87.36 m/s\n",
      "t = 85.30000000000001 s v=-87.36 m/s\n",
      "t = 85.4 s v=-87.36 m/s\n",
      "t = 85.5 s v=-87.36 m/s\n",
      "t = 85.60000000000001 s v=-87.36 m/s\n",
      "t = 85.7 s v=-87.36 m/s\n",
      "t = 85.80000000000001 s v=-87.36 m/s\n",
      "t = 85.9 s v=-87.36 m/s\n",
      "t = 86.0 s v=-87.36 m/s\n",
      "t = 86.10000000000001 s v=-87.36 m/s\n",
      "t = 86.2 s v=-87.36 m/s\n",
      "t = 86.30000000000001 s v=-87.36 m/s\n",
      "t = 86.4 s v=-87.36 m/s\n",
      "t = 86.5 s v=-87.36 m/s\n",
      "t = 86.60000000000001 s v=-87.36 m/s\n",
      "t = 86.7 s v=-87.36 m/s\n",
      "t = 86.80000000000001 s v=-87.36 m/s\n",
      "t = 86.9 s v=-87.36 m/s\n",
      "t = 87.0 s v=-87.36 m/s\n",
      "t = 87.10000000000001 s v=-87.36 m/s\n",
      "t = 87.2 s v=-87.36 m/s\n",
      "t = 87.30000000000001 s v=-87.36 m/s\n",
      "t = 87.4 s v=-87.36 m/s\n",
      "t = 87.5 s v=-87.36 m/s\n",
      "t = 87.60000000000001 s v=-87.36 m/s\n",
      "t = 87.7 s v=-87.36 m/s\n",
      "t = 87.80000000000001 s v=-87.36 m/s\n",
      "t = 87.9 s v=-87.36 m/s\n",
      "t = 88.0 s v=-87.36 m/s\n",
      "t = 88.10000000000001 s v=-87.36 m/s\n",
      "t = 88.2 s v=-87.36 m/s\n",
      "t = 88.30000000000001 s v=-87.36 m/s\n",
      "t = 88.4 s v=-87.36 m/s\n",
      "t = 88.5 s v=-87.36 m/s\n",
      "t = 88.60000000000001 s v=-87.36 m/s\n",
      "t = 88.7 s v=-87.36 m/s\n",
      "t = 88.80000000000001 s v=-87.36 m/s\n",
      "t = 88.9 s v=-87.36 m/s\n",
      "t = 89.0 s v=-87.36 m/s\n",
      "t = 89.10000000000001 s v=-87.36 m/s\n",
      "t = 89.2 s v=-87.36 m/s\n",
      "t = 89.30000000000001 s v=-87.36 m/s\n",
      "t = 89.4 s v=-87.36 m/s\n",
      "t = 89.5 s v=-87.36 m/s\n",
      "t = 89.60000000000001 s v=-87.36 m/s\n",
      "t = 89.7 s v=-87.36 m/s\n",
      "t = 89.80000000000001 s v=-87.36 m/s\n",
      "t = 89.9 s v=-87.36 m/s\n",
      "t = 90.0 s v=-87.36 m/s\n",
      "t = 90.10000000000001 s v=-87.36 m/s\n",
      "t = 90.2 s v=-87.36 m/s\n",
      "t = 90.30000000000001 s v=-87.36 m/s\n",
      "t = 90.4 s v=-87.36 m/s\n",
      "t = 90.5 s v=-87.36 m/s\n",
      "t = 90.60000000000001 s v=-87.36 m/s\n",
      "t = 90.7 s v=-87.36 m/s\n",
      "t = 90.80000000000001 s v=-87.36 m/s\n",
      "t = 90.9 s v=-87.36 m/s\n",
      "t = 91.0 s v=-87.36 m/s\n",
      "t = 91.10000000000001 s v=-87.36 m/s\n",
      "t = 91.2 s v=-87.36 m/s\n",
      "t = 91.30000000000001 s v=-87.36 m/s\n",
      "t = 91.4 s v=-87.36 m/s\n",
      "t = 91.5 s v=-87.36 m/s\n",
      "t = 91.60000000000001 s v=-87.36 m/s\n",
      "t = 91.7 s v=-87.36 m/s\n",
      "t = 91.80000000000001 s v=-87.36 m/s\n",
      "t = 91.9 s v=-87.36 m/s\n",
      "t = 92.0 s v=-87.36 m/s\n",
      "t = 92.10000000000001 s v=-87.36 m/s\n",
      "t = 92.2 s v=-87.36 m/s\n",
      "t = 92.30000000000001 s v=-87.36 m/s\n",
      "t = 92.4 s v=-87.36 m/s\n",
      "t = 92.5 s v=-87.36 m/s\n",
      "t = 92.60000000000001 s v=-87.36 m/s\n",
      "t = 92.7 s v=-87.36 m/s\n",
      "t = 92.80000000000001 s v=-87.36 m/s\n",
      "t = 92.9 s v=-87.36 m/s\n",
      "t = 93.0 s v=-87.36 m/s\n",
      "t = 93.10000000000001 s v=-87.36 m/s\n",
      "t = 93.2 s v=-87.36 m/s\n",
      "t = 93.30000000000001 s v=-87.36 m/s\n",
      "t = 93.4 s v=-87.36 m/s\n",
      "t = 93.5 s v=-87.36 m/s\n",
      "t = 93.60000000000001 s v=-87.36 m/s\n",
      "t = 93.7 s v=-87.36 m/s\n",
      "t = 93.80000000000001 s v=-87.36 m/s\n",
      "t = 93.9 s v=-87.36 m/s\n",
      "t = 94.0 s v=-87.36 m/s\n",
      "t = 94.10000000000001 s v=-87.36 m/s\n",
      "t = 94.2 s v=-87.36 m/s\n",
      "t = 94.30000000000001 s v=-87.36 m/s\n",
      "t = 94.4 s v=-87.36 m/s\n",
      "t = 94.5 s v=-87.36 m/s\n",
      "t = 94.60000000000001 s v=-87.36 m/s\n",
      "t = 94.7 s v=-87.36 m/s\n",
      "t = 94.80000000000001 s v=-87.36 m/s\n",
      "t = 94.9 s v=-87.36 m/s\n",
      "t = 95.0 s v=-87.36 m/s\n",
      "t = 95.10000000000001 s v=-87.36 m/s\n",
      "t = 95.2 s v=-87.36 m/s\n",
      "t = 95.30000000000001 s v=-87.36 m/s\n",
      "t = 95.4 s v=-87.36 m/s\n",
      "t = 95.5 s v=-87.36 m/s\n",
      "t = 95.60000000000001 s v=-87.36 m/s\n",
      "t = 95.7 s v=-87.36 m/s\n",
      "t = 95.80000000000001 s v=-87.36 m/s\n",
      "t = 95.9 s v=-87.36 m/s\n",
      "t = 96.0 s v=-87.36 m/s\n",
      "t = 96.10000000000001 s v=-87.36 m/s\n",
      "t = 96.2 s v=-87.36 m/s\n",
      "t = 96.30000000000001 s v=-87.36 m/s\n",
      "t = 96.4 s v=-87.36 m/s\n",
      "t = 96.5 s v=-87.36 m/s\n",
      "t = 96.60000000000001 s v=-87.36 m/s\n",
      "t = 96.7 s v=-87.36 m/s\n",
      "t = 96.80000000000001 s v=-87.36 m/s\n",
      "t = 96.9 s v=-87.36 m/s\n",
      "t = 97.0 s v=-87.36 m/s\n",
      "t = 97.10000000000001 s v=-87.36 m/s\n",
      "t = 97.2 s v=-87.36 m/s\n",
      "t = 97.30000000000001 s v=-87.36 m/s\n",
      "t = 97.4 s v=-87.36 m/s\n",
      "t = 97.5 s v=-87.36 m/s\n",
      "t = 97.60000000000001 s v=-87.36 m/s\n",
      "t = 97.7 s v=-87.36 m/s\n",
      "t = 97.80000000000001 s v=-87.36 m/s\n",
      "t = 97.9 s v=-87.36 m/s\n",
      "t = 98.0 s v=-87.36 m/s\n",
      "t = 98.10000000000001 s v=-87.36 m/s\n",
      "t = 98.2 s v=-87.36 m/s\n",
      "t = 98.30000000000001 s v=-87.36 m/s\n",
      "t = 98.4 s v=-87.36 m/s\n",
      "t = 98.5 s v=-87.36 m/s\n",
      "t = 98.60000000000001 s v=-87.36 m/s\n",
      "t = 98.7 s v=-87.36 m/s\n",
      "t = 98.80000000000001 s v=-87.36 m/s\n",
      "t = 98.9 s v=-87.36 m/s\n",
      "t = 99.0 s v=-87.36 m/s\n",
      "t = 99.10000000000001 s v=-87.36 m/s\n",
      "t = 99.2 s v=-87.36 m/s\n",
      "t = 99.30000000000001 s v=-87.36 m/s\n",
      "t = 99.4 s v=-87.36 m/s\n",
      "t = 99.5 s v=-87.36 m/s\n",
      "t = 99.60000000000001 s v=-87.36 m/s\n",
      "t = 99.7 s v=-87.36 m/s\n",
      "t = 99.80000000000001 s v=-87.36 m/s\n",
      "t = 99.9 s v=-87.36 m/s\n",
      "t = 100.0 s v=-87.36 m/s\n"
     ]
    }
   ],
   "source": [
    "for n in range (1,N):\n",
    "    if u[n,0] < 0:\n",
    "        print ('t = {} s'.format(n*dt), 'v={:.2f} m/s'. format(u[n,1]))"
   ]
  },
  {
   "cell_type": "code",
   "execution_count": 257,
   "metadata": {
    "collapsed": false
   },
   "outputs": [
    {
     "data": {
      "text/plain": [
       "1334.1829454303067"
      ]
     },
     "execution_count": 257,
     "metadata": {},
     "output_type": "execute_result"
    }
   ],
   "source": [
    "max(h)"
   ]
  },
  {
   "cell_type": "code",
   "execution_count": 258,
   "metadata": {
    "collapsed": false,
    "scrolled": true
   },
   "outputs": [
    {
     "data": {
      "text/plain": [
       "[<matplotlib.lines.Line2D at 0x7faeb4451588>]"
      ]
     },
     "execution_count": 258,
     "metadata": {},
     "output_type": "execute_result"
    },
    {
     "data": {
      "image/png": "[encoded data removed]",
      "text/plain": [
       "<matplotlib.figure.Figure at 0x7faeb45f3ac8>"
      ]
     },
     "metadata": {},
     "output_type": "display_data"
    }
   ],
   "source": [
    "pyplot.figure(figsize = (8,6))\n",
    "pyplot.grid(True)\n",
    "pyplot.ylim(0,1500)\n",
    "pyplot.xlim(0,40)\n",
    "pyplot.xlabel(r't')\n",
    "pyplot.ylabel(r'h')\n",
    "pyplot.plot(t,h,'k-',lw=2)"
   ]
  },
  {
   "cell_type": "code",
   "execution_count": 259,
   "metadata": {
    "collapsed": false
   },
   "outputs": [
    {
     "data": {
      "text/plain": [
       "[<matplotlib.lines.Line2D at 0x7faeb4440e10>]"
      ]
     },
     "execution_count": 259,
     "metadata": {},
     "output_type": "execute_result"
    },
    {
     "data": {
      "image/png": "[encoded data removed]",
      "text/plain": [
       "<matplotlib.figure.Figure at 0x7faeb43a2e48>"
      ]
     },
     "metadata": {},
     "output_type": "display_data"
    }
   ],
   "source": [
    "pyplot.figure(figsize = (8,6))\n",
    "pyplot.grid(True)\n",
    "pyplot.xlim(0,40)\n",
    "pyplot.xlabel(r't')\n",
    "pyplot.ylabel(r'v')\n",
    "pyplot.plot(t,v,'k-',lw=2)"
   ]
  },
  {
   "cell_type": "code",
   "execution_count": 260,
   "metadata": {
    "collapsed": false
   },
   "outputs": [
    {
     "data": {
      "text/plain": [
       "[<matplotlib.lines.Line2D at 0x7faeb4343f60>]"
      ]
     },
     "execution_count": 260,
     "metadata": {},
     "output_type": "execute_result"
    },
    {
     "data": {
      "image/png": "[encoded data removed]",
      "text/plain": [
       "<matplotlib.figure.Figure at 0x7faeb4496278>"
      ]
     },
     "metadata": {},
     "output_type": "display_data"
    }
   ],
   "source": [
    "pyplot.figure(figsize = (8,6))\n",
    "pyplot.grid(True)\n",
    "pyplot.xlim(0,1500)\n",
    "pyplot.xlabel(r'h')\n",
    "pyplot.ylabel(r'v')\n",
    "pyplot.plot(h,v,'k-',lw=2)"
   ]
  },
  {
   "cell_type": "code",
   "execution_count": null,
   "metadata": {
    "collapsed": true
   },
   "outputs": [],
   "source": []
  }
 ],
 "metadata": {
  "anaconda-cloud": {},
  "kernelspec": {
   "display_name": "Python [default]",
   "language": "python",
   "name": "python3"
  },
  "language_info": {
   "codemirror_mode": {
    "name": "ipython",
    "version": 3
   },
   "file_extension": ".py",
   "mimetype": "text/x-python",
   "name": "python",
   "nbconvert_exporter": "python",
   "pygments_lexer": "ipython3",
   "version": "3.5.2"
  }
 },
 "nbformat": 4,
 "nbformat_minor": 1
}
