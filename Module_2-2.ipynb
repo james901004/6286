{
 "cells": [
  {
   "cell_type": "code",
   "execution_count": 3,
   "metadata": {
    "collapsed": true
   },
   "outputs": [],
   "source": [
    "import numpy                       \n",
    "from matplotlib import pyplot    \n",
    "%matplotlib inline\n",
    "from matplotlib import rcParams\n",
    "rcParams['font.family'] = 'serif'\n",
    "rcParams['font.size'] = 16"
   ]
  },
  {
   "cell_type": "code",
   "execution_count": 53,
   "metadata": {
    "collapsed": true
   },
   "outputs": [],
   "source": [
    "def linearconv(nx):\n",
    "    dx = 2/(nx-1)\n",
    "    nt = 20    \n",
    "    dt = .025  \n",
    "    c = 1\n",
    "    \n",
    "    x = numpy.linspace(0,2,nx)\n",
    "    u = numpy.zeros(nx)\n",
    "\n",
    "    for i in range(nx):\n",
    "        if 0.9 <= x[1] and 1.0 >= x[i]:\n",
    "            u[i] = 10*(x[i] - 0.9)\n",
    "        if 1.0 <= x[i] and 1.1 >= x[i]:\n",
    "            u[i] = 10*(1.1 - x[i])\n",
    "\n",
    "    un = numpy.zeros(nx) \n",
    "\n",
    "    for n in range(nt): \n",
    "        un = u.copy() \n",
    "        u[1:-1] = un[1:-1] -c*dt/dx*(un[2:] -un[0:-2]) \n",
    "        \n",
    "\n",
    "    pyplot.plot(x, u, lw=3)\n",
    "    #pyplot.ylim(-5,5);  "
   ]
  },
  {
   "cell_type": "code",
   "execution_count": 58,
   "metadata": {
    "collapsed": false
   },
   "outputs": [
    {
     "data": {
      "image/png": "[encoded data removed]",
      "text/plain": [
       "<matplotlib.figure.Figure at 0x7fd58d68fd68>"
      ]
     },
     "metadata": {},
     "output_type": "display_data"
    }
   ],
   "source": [
    "linearconv(41)"
   ]
  },
  {
   "cell_type": "code",
   "execution_count": 56,
   "metadata": {
    "collapsed": true
   },
   "outputs": [],
   "source": [
    "def linearconv1(nx):\n",
    "    dx = 2/(nx-1)\n",
    "    nt = 20    \n",
    "    c = 1\n",
    "    sigma = .5\n",
    "    x = numpy.linspace(0,2,nx)\n",
    "    \n",
    "    dt = sigma*dx\n",
    "\n",
    "    u = numpy.ones(nx) \n",
    "    lbound = numpy.where(x >= 0.5)\n",
    "    ubound = numpy.where(x <= 1)\n",
    "    u[numpy.intersect1d(lbound, ubound)]=2 \n",
    "\n",
    "    un = numpy.ones(nx)\n",
    "\n",
    "    for n in range(nt):  \n",
    "        un = u.copy() \n",
    "        u[1:] = un[1:] -c*dt/dx*(un[1:] -un[0:-1]) \n",
    "        u[0] = 1.0\n",
    "        \n",
    "    pyplot.plot(x, u, color='#003366', ls='--', lw=3)\n",
    "    pyplot.ylim(0,2.5);"
   ]
  },
  {
   "cell_type": "code",
   "execution_count": 18,
   "metadata": {
    "collapsed": false
   },
   "outputs": [
    {
     "data": {
      "image/png": "[encoded data removed]",
      "text/plain": [
       "<matplotlib.figure.Figure at 0x7fae7bae16a0>"
      ]
     },
     "metadata": {},
     "output_type": "display_data"
    }
   ],
   "source": [
    "linearconv1(121)"
   ]
  },
  {
   "cell_type": "code",
   "execution_count": null,
   "metadata": {
    "collapsed": true
   },
   "outputs": [],
   "source": []
  }
 ],
 "metadata": {
  "anaconda-cloud": {},
  "kernelspec": {
   "display_name": "Python [default]",
   "language": "python",
   "name": "python3"
  },
  "language_info": {
   "codemirror_mode": {
    "name": "ipython",
    "version": 3
   },
   "file_extension": ".py",
   "mimetype": "text/x-python",
   "name": "python",
   "nbconvert_exporter": "python",
   "pygments_lexer": "ipython3",
   "version": "3.5.2"
  }
 },
 "nbformat": 4,
 "nbformat_minor": 1
}
