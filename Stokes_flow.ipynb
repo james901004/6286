{
 "cells": [
  {
   "cell_type": "code",
   "execution_count": 1,
   "metadata": {
    "collapsed": false
   },
   "outputs": [],
   "source": [
    "from matplotlib import pyplot\n",
    "from matplotlib import cm\n",
    "import numpy\n",
    "%matplotlib inline"
   ]
  },
  {
   "cell_type": "code",
   "execution_count": 2,
   "metadata": {
    "collapsed": true
   },
   "outputs": [],
   "source": [
    "nx = 41\n",
    "ny = 41\n",
    "\n",
    "l = 1.\n",
    "h = 1.\n",
    "\n",
    "dx = l/(nx-1)\n",
    "dy = h/(ny-1)\n",
    "\n",
    "l1_target = 1e-6"
   ]
  },
  {
   "cell_type": "code",
   "execution_count": 3,
   "metadata": {
    "collapsed": true
   },
   "outputs": [],
   "source": [
    "def L1norm(new, old):\n",
    "    norm = numpy.sum(numpy.abs(new-old))\n",
    "    return norm"
   ]
  },
  {
   "cell_type": "code",
   "execution_count": 4,
   "metadata": {
    "collapsed": false
   },
   "outputs": [],
   "source": [
    "x = numpy.linspace(0,l,nx)\n",
    "y = numpy.linspace(0,h,ny)\n",
    "\n",
    "omega = numpy.zeros((ny,nx))\n",
    "psi = numpy.zeros_like(omega)"
   ]
  },
  {
   "cell_type": "code",
   "execution_count": 5,
   "metadata": {
    "collapsed": false
   },
   "outputs": [],
   "source": [
    "def laplace2d(omega, psi, l1_target, dx, dy):\n",
    "    \n",
    "    l2norm = 1\n",
    "    omegan = numpy.empty_like(omega)\n",
    "    psin = numpy.empty_like(psi)\n",
    "    \n",
    "    while l2norm > l1_target:\n",
    "        \n",
    "        omegan = omega.copy()\n",
    "        psin = psi.copy()\n",
    "        \n",
    "        omega[1:-1,1:-1] = 0.25 * (omegan[1:-1,2:] + omegan[1:-1,:-2] +\\\n",
    "                                   omegan[2:,1:-1] + omegan[:-2,1:-1])\n",
    "        \n",
    "        psi [1:-1,1:-1] = 1/(2*(dx**2 +dy**2))* \\\n",
    "                          ((psin[1:-1,2:] + psin[1:-1,:-2])*dy**2 +\\\n",
    "                           (psin[2:,1:-1] + psin[:-2,1:-1])*dx**2 +\\\n",
    "                            omegan[1:-1,1:-1]*dx**2*dy**2)\n",
    "        \n",
    "        #BCs for omega, BCs for psi are automatcially enforced\n",
    "        omega[-1,1:-1] = -1/(2*dy**2)*(8*psi[-2,1:-1] - psi[-3,1:-1]) - 3/dy        #top\n",
    "        omega[0,1:-1] = -1/(2*dy**2)*(8*psi[1,1:-1] - psi[2,1:-1])                  #bottom\n",
    "        omega[1:-1,0] = -1/(2*dx**2)*(8*psi[1:-1,1] - psi[1:-1,2])                  #left\n",
    "        omega[1:-1,-1] = -1/(2*dx**2)*(8*psi[1:-1,-2] - psi[1:-1,-3])               #right\n",
    "        \n",
    "        \n",
    "        #set break value, both l1 norm value less than 1e-6\n",
    "        l2norm = L1norm(omega,omegan)\n",
    "        if l2norm < L1norm(psi,psin):\n",
    "            l2norm = L1norm(psi,psin)\n",
    "\n",
    "    \n",
    "    return omega, psi"
   ]
  },
  {
   "cell_type": "code",
   "execution_count": 6,
   "metadata": {
    "collapsed": false
   },
   "outputs": [],
   "source": [
    "A = laplace2d(omega, psi, l1_target, dx, dy)"
   ]
  },
  {
   "cell_type": "code",
   "execution_count": 7,
   "metadata": {
    "collapsed": false
   },
   "outputs": [
    {
     "name": "stdout",
     "output_type": "stream",
     "text": [
      "psi_max = 0.0998\n",
      "omega_max = 78.1927\n"
     ]
    }
   ],
   "source": [
    "psi_max = numpy.round(numpy.max(numpy.abs(A[1])),4)\n",
    "omega_max = numpy.round(numpy.max(numpy.abs(A[0])),4) #why here still returns a long number like 78.1927000000002\n",
    "print(\"psi_max = {:.4f}\".format(psi_max))\n",
    "print(\"omega_max = {:.4f}\".format(omega_max))"
   ]
  },
  {
   "cell_type": "code",
   "execution_count": 8,
   "metadata": {
    "collapsed": false
   },
   "outputs": [
    {
     "data": {
      "text/plain": [
       "array([ 0.    , -0.0575, -0.0944, -0.0944, -0.0575,  0.    ])"
      ]
     },
     "execution_count": 8,
     "metadata": {},
     "output_type": "execute_result"
    }
   ],
   "source": [
    "numpy.round(psi[32,::8], 4)"
   ]
  },
  {
   "cell_type": "code",
   "execution_count": 9,
   "metadata": {
    "collapsed": false
   },
   "outputs": [
    {
     "data": {
      "image/png": "[encoded data removed]",
      "text/plain": [
       "<matplotlib.figure.Figure at 0x7f681aad69b0>"
      ]
     },
     "metadata": {},
     "output_type": "display_data"
    }
   ],
   "source": [
    "pyplot.figure(figsize=(8,6))\n",
    "pyplot.contourf(x, y, psi, 10, cmap=cm.viridis)\n",
    "pyplot.xlabel('$x$')\n",
    "pyplot.ylabel('$y$')\n",
    "pyplot.colorbar();"
   ]
  }
 ],
 "metadata": {
  "anaconda-cloud": {},
  "kernelspec": {
   "display_name": "Python [default]",
   "language": "python",
   "name": "python3"
  },
  "language_info": {
   "codemirror_mode": {
    "name": "ipython",
    "version": 3
   },
   "file_extension": ".py",
   "mimetype": "text/x-python",
   "name": "python",
   "nbconvert_exporter": "python",
   "pygments_lexer": "ipython3",
   "version": "3.5.2"
  }
 },
 "nbformat": 4,
 "nbformat_minor": 1
}
