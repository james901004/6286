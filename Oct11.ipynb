{
 "cells": [
  {
   "cell_type": "code",
   "execution_count": 5,
   "metadata": {
    "collapsed": false
   },
   "outputs": [
    {
     "name": "stdout",
     "output_type": "stream",
     "text": [
      "0.05\n"
     ]
    },
    {
     "data": {
      "image/png": "[encoded data removed]",
      "text/plain": [
       "<matplotlib.figure.Figure at 0x7fd09c07ccc0>"
      ]
     },
     "metadata": {},
     "output_type": "display_data"
    },
    {
     "data": {
      "image/png": "[encoded data removed]",
      "text/plain": [
       "<matplotlib.figure.Figure at 0x7fd09db64048>"
      ]
     },
     "metadata": {},
     "output_type": "display_data"
    }
   ],
   "source": [
    "# --Schemes for convection\n",
    "import numpy \n",
    "from matplotlib import pyplot\n",
    "\n",
    "# set the interactive mode to get an animation on screen\n",
    "pyplot.ion()\n",
    "\n",
    "# parameters\n",
    "nx = 81      # number of x-intervals\n",
    "nt = 80      # number of time intervals\n",
    "sigma = 0.8\n",
    "c  = 1.\n",
    "dx = 4.0/(nx-1)\n",
    "print(dx)\n",
    "dt = sigma * dx/c\n",
    "\n",
    "# initialization\n",
    "x =  numpy.arange(0,4+dx,dx)\n",
    "u =  numpy.zeros(nx)\n",
    "un = numpy.zeros(nx)\n",
    "unminus1 = numpy.zeros(nx)\n",
    "u[0]  = 1          # sets the rhs value to 1\n",
    "un[0] = 1\n",
    "unminus1[0] = 1\n",
    "\n",
    "# plot initial condition        \n",
    "line1,line2 = pyplot.plot(x,u,'k.-',x,u, 'b--')\n",
    "pyplot.axis([0,4,-0.5,1.5])\n",
    "pyplot.xlabel('x')\n",
    "pyplot.ylabel('u')\n",
    "pyplot.show()\n",
    "pyplot.title('nx='+str(nx)+', nt='+str(nt)+', dt='+str(dt), family='serif')\n",
    "\n",
    "for i in range(1,nx):\n",
    "    # backward difference for first step in time\n",
    "    u[i] = un[i]- sigma*( un[i]- un[i-1] )\n",
    "\n",
    "for it in range(1,nt):\n",
    "    un = u.copy()\n",
    "    for i in range(1,nx-1):\n",
    "        # leapfrog\n",
    "        u[i] = unminus1[i]- sigma*( un[i+1]- un[i-1] )\n",
    "    u[0] = 1\n",
    "    unminus1 = un.copy()\n",
    "    line1.set_ydata(u)\n",
    "    line2.set_ydata(numpy.where(x < c*dt*(it+1), numpy.ones(nx),numpy.zeros(nx) ) )\n",
    "    pyplot.pause(0.03)\n"
   ]
  },
  {
   "cell_type": "code",
   "execution_count": null,
   "metadata": {
    "collapsed": true
   },
   "outputs": [],
   "source": []
  }
 ],
 "metadata": {
  "anaconda-cloud": {},
  "kernelspec": {
   "display_name": "Python [default]",
   "language": "python",
   "name": "python3"
  },
  "language_info": {
   "codemirror_mode": {
    "name": "ipython",
    "version": 3
   },
   "file_extension": ".py",
   "mimetype": "text/x-python",
   "name": "python",
   "nbconvert_exporter": "python",
   "pygments_lexer": "ipython3",
   "version": "3.5.2"
  }
 },
 "nbformat": 4,
 "nbformat_minor": 1
}
