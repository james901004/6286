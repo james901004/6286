{
 "cells": [
  {
   "cell_type": "markdown",
   "metadata": {},
   "source": [
    "Coding assignment: traffic flow"
   ]
  },
  {
   "cell_type": "code",
   "execution_count": 616,
   "metadata": {
    "collapsed": true
   },
   "outputs": [],
   "source": [
    "import numpy"
   ]
  },
  {
   "cell_type": "code",
   "execution_count": 617,
   "metadata": {
    "collapsed": true
   },
   "outputs": [],
   "source": [
    "V_max = 80\n",
    "L = 11\n",
    "rho_max = 250\n",
    "nx = 51\n",
    "dt = 0.001\n",
    "dx = L/(nx-1)"
   ]
  },
  {
   "cell_type": "code",
   "execution_count": 618,
   "metadata": {
    "collapsed": true
   },
   "outputs": [],
   "source": [
    "x = numpy.linspace(0,L,nx)\n",
    "rho0 = numpy.ones(nx)*10\n",
    "rho0[10:20] = 50"
   ]
  },
  {
   "cell_type": "code",
   "execution_count": 619,
   "metadata": {
    "collapsed": true
   },
   "outputs": [],
   "source": [
    "rho = numpy.ones(nx)\n",
    "rho = rho0"
   ]
  },
  {
   "cell_type": "code",
   "execution_count": 620,
   "metadata": {
    "collapsed": true
   },
   "outputs": [],
   "source": [
    "F = V_max*(1-rho/rho_max)*rho"
   ]
  },
  {
   "cell_type": "code",
   "execution_count": 621,
   "metadata": {
    "collapsed": false
   },
   "outputs": [
    {
     "name": "stdout",
     "output_type": "stream",
     "text": [
      "The minimum velocity at time t = 0 is v =17.78 m/s\n"
     ]
    }
   ],
   "source": [
    "for i in range(1,nx): \n",
    "    \n",
    "        rho[i] = rho[i]-dt/dx*(F[i]-F[i-1])\n",
    "\n",
    "V = V_max*(1-rho/rho_max)\n",
    "print ('The minimum velocity at time t = 0 is v ={:.2f} m/s'.format(min(V)/3.6))"
   ]
  },
  {
   "cell_type": "code",
   "execution_count": 622,
   "metadata": {
    "collapsed": false
   },
   "outputs": [],
   "source": [
    "nt = int(3/(dt*60))\n",
    "for n in range(1,nt):  \n",
    "    rhon = rho.copy() \n",
    "    Fn = V_max*(1-rhon/rho_max)*rhon\n",
    "    for i in range(1,nx): \n",
    "        rho[i] = rhon[i]-dt/dx*(Fn[i]-Fn[i-1])\n",
    "        rho[0] = 10"
   ]
  },
  {
   "cell_type": "code",
   "execution_count": 623,
   "metadata": {
    "collapsed": false
   },
   "outputs": [],
   "source": [
    "V = V_max*(1-rho/rho_max)"
   ]
  },
  {
   "cell_type": "code",
   "execution_count": 624,
   "metadata": {
    "collapsed": false
   },
   "outputs": [
    {
     "name": "stdout",
     "output_type": "stream",
     "text": [
      "The average velocity at t=3 minutes is v =20.64 m/s\n"
     ]
    }
   ],
   "source": [
    "print ('The average velocity at t=3 minutes is v ={:.2f} m/s'.format(sum(V)/len(V)/3.6))"
   ]
  },
  {
   "cell_type": "code",
   "execution_count": 625,
   "metadata": {
    "collapsed": false
   },
   "outputs": [],
   "source": [
    "nt = int(3/(60*dt))\n",
    "for n in range(1,nt):  \n",
    "    rhon = rho.copy()\n",
    "    Fn = V_max*(1-rhon/rho_max)*rhon\n",
    "    for i in range(1,nx): \n",
    "        rho[i] = rhon[i]-dt/dx*(Fn[i]-Fn[i-1])\n",
    "        rho[0] = 10"
   ]
  },
  {
   "cell_type": "code",
   "execution_count": 626,
   "metadata": {
    "collapsed": false
   },
   "outputs": [],
   "source": [
    "#rho = rho0\n",
    "#nt = int(6/(60*dt))\n",
    "#for n in range(1, nt):  \n",
    "#    rhon = rho.copy()\n",
    "#    Fn = V_max*(1-rhon/rho_max)*rhon\n",
    "#    rho[1:] = rhon[1:]-dt/dx*(Fn[1:]-Fn[0:-1]) \n",
    "#    rho[0] = 10"
   ]
  },
  {
   "cell_type": "code",
   "execution_count": 627,
   "metadata": {
    "collapsed": false
   },
   "outputs": [],
   "source": [
    "V = V_max*(1-rho/rho_max)"
   ]
  },
  {
   "cell_type": "code",
   "execution_count": 628,
   "metadata": {
    "collapsed": false
   },
   "outputs": [
    {
     "name": "stdout",
     "output_type": "stream",
     "text": [
      "The miminum velocity at time t = 6 minutes is v = 18.78 m/s\n"
     ]
    }
   ],
   "source": [
    "print ('The miminum velocity at time t = 6 minutes is v = {:.2f} m/s'.format(min(V)/3.6))"
   ]
  },
  {
   "cell_type": "markdown",
   "metadata": {},
   "source": [
    "Part B"
   ]
  },
  {
   "cell_type": "code",
   "execution_count": 629,
   "metadata": {
    "collapsed": true
   },
   "outputs": [],
   "source": [
    "V_max = 136\n",
    "x = numpy.linspace(0,L,nx)\n",
    "rho0 = numpy.ones(nx)*20 \n",
    "rho0[10:20] = 50\n",
    "rho = numpy.ones(nx)\n",
    "rho = rho0\n",
    "F = V_max*(1-rho/rho_max)*rho"
   ]
  },
  {
   "cell_type": "code",
   "execution_count": 630,
   "metadata": {
    "collapsed": false
   },
   "outputs": [
    {
     "name": "stdout",
     "output_type": "stream",
     "text": [
      "The minimum velocity at time t = 0 is v =30.22 m/s\n"
     ]
    }
   ],
   "source": [
    "for i in range(1,nx):\n",
    "\n",
    "        rho[i] = rho[i]-dt/dx*(F[i]-F[i-1])\n",
    "        \n",
    "V = V_max*(1-rho/rho_max)\n",
    "print ('The minimum velocity at time t = 0 is v ={:.2f} m/s'.format(min(V)/3.6))"
   ]
  },
  {
   "cell_type": "code",
   "execution_count": 631,
   "metadata": {
    "collapsed": false
   },
   "outputs": [
    {
     "name": "stdout",
     "output_type": "stream",
     "text": [
      "The average velocity at t=3 minutes is v =33.87 m/s\n"
     ]
    }
   ],
   "source": [
    "nt = int(3/(dt*60))\n",
    "for n in range(1,nt):  \n",
    "    rhon = rho.copy() \n",
    "    Fn = V_max*(1-rhon/rho_max)*rhon\n",
    "    for i in range(1,nx): \n",
    "\n",
    "        rho[i] = rhon[i]-dt/dx*(Fn[i]-Fn[i-1])\n",
    "        rho[0] = 20\n",
    "\n",
    "V = V_max*(1-rho/rho_max)\n",
    "\n",
    "print('The average velocity at t=3 minutes is v ={:.2f} m/s'.format(sum(V)/len(V)/3.6))"
   ]
  },
  {
   "cell_type": "code",
   "execution_count": 615,
   "metadata": {
    "collapsed": false
   },
   "outputs": [
    {
     "name": "stdout",
     "output_type": "stream",
     "text": [
      "The minimum velocity at t=3 minutes is v =30.99 m/s\n"
     ]
    }
   ],
   "source": [
    "print ('The minimum velocity at t=3 minutes is v ={:.2f} m/s'.format(min(V)/3.6))"
   ]
  }
 ],
 "metadata": {
  "kernelspec": {
   "display_name": "Python [default]",
   "language": "python",
   "name": "python3"
  },
  "language_info": {
   "codemirror_mode": {
    "name": "ipython",
    "version": 3
   },
   "file_extension": ".py",
   "mimetype": "text/x-python",
   "name": "python",
   "nbconvert_exporter": "python",
   "pygments_lexer": "ipython3",
   "version": "3.5.2"
  }
 },
 "nbformat": 4,
 "nbformat_minor": 1
}
