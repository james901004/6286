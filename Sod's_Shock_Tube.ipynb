{
 "cells": [
  {
   "cell_type": "code",
   "execution_count": 364,
   "metadata": {
    "collapsed": true
   },
   "outputs": [],
   "source": [
    "import numpy "
   ]
  },
  {
   "cell_type": "code",
   "execution_count": 365,
   "metadata": {
    "collapsed": true
   },
   "outputs": [],
   "source": [
    "#Code parameters\n",
    "\n",
    "nx = 81\n",
    "dx = .25\n",
    "dt = .0002   \n",
    "gamma = 1.4\n",
    "\n",
    "# all caculations at time = 0.01s\n",
    "t = 0.01 \n",
    "nt = int(t/dt)+1"
   ]
  },
  {
   "cell_type": "code",
   "execution_count": 366,
   "metadata": {
    "collapsed": true
   },
   "outputs": [],
   "source": [
    "# x=−10m to x=10m\n",
    "x = numpy.linspace(-10, 10, nx)\n",
    "rho = numpy.ones(nx)\n",
    "rho[40:] = 0.125\n",
    "\n",
    "u = numpy.zeros(nx)\n",
    "\n",
    "p = numpy.ones(nx)\n",
    "p[0:40] = 100000.\n",
    "p[40:] = 10000."
   ]
  },
  {
   "cell_type": "code",
   "execution_count": 367,
   "metadata": {
    "collapsed": false
   },
   "outputs": [],
   "source": [
    "#define u\n",
    "eT = p/(gamma-1)/rho + 0.5*u**2\n",
    "u1 = rho\n",
    "u2 = rho*u\n",
    "u3 = rho*eT"
   ]
  },
  {
   "cell_type": "code",
   "execution_count": 368,
   "metadata": {
    "collapsed": true
   },
   "outputs": [],
   "source": [
    "#define f mainly for the usage of following fhalf\n",
    "def f1_func(u1, u2, u3):\n",
    "    return u2\n",
    "def f2_func(u1, u2, u3):\n",
    "    return u2**2/u1 + (gamma-1)*(u3 - 0.5*u2**2/u1)\n",
    "def f3_func(u1, u2, u3):\n",
    "    return (u3 + (gamma - 1)*(u3 - 0.5*u2**2/u1))*u2/u1"
   ]
  },
  {
   "cell_type": "code",
   "execution_count": 381,
   "metadata": {
    "collapsed": false
   },
   "outputs": [],
   "source": [
    "def func(u1, u2, u3, dx, dt, nx, nt):\n",
    "    un1 = numpy.zeros((nt, nx))\n",
    "    un2 = numpy.zeros((nt, nx))\n",
    "    un3 = numpy.zeros((nt, nx))\n",
    "    \n",
    "    un1[:,:] = u1.copy()\n",
    "    un2[:,:] = u2.copy()\n",
    "    un3[:,:] = u3.copy()\n",
    "    \n",
    "    uhalf1 = numpy.zeros(nx)\n",
    "    uhalf2 = numpy.zeros(nx)\n",
    "    uhalf3 = numpy.zeros(nx)\n",
    "    \n",
    "    uhalf1 = u1.copy()\n",
    "    uhalf2 = u2.copy()\n",
    "    uhalf3 = u3.copy()\n",
    "    \n",
    "    for i in range(1, nt):\n",
    "        f1 = f1_func(u1, u2, u3)\n",
    "        f2 = f2_func(u1, u2, u3)\n",
    "        f3 = f3_func(u1, u2, u3)\n",
    "        \n",
    "        #get the half step of the function first \n",
    "        uhalf1[:-1] = 0.5*(u1[:-1] + u1[1:]) - (dt/(2*dx))*(f1[1:] - f1[:-1])\n",
    "        uhalf2[:-1] = 0.5*(u2[:-1] + u2[1:]) - (dt/(2*dx))*(f2[1:] - f2[:-1])\n",
    "        uhalf3[:-1] = 0.5*(u3[:-1] + u3[1:]) - (dt/(2*dx))*(f3[1:] - f3[:-1])\n",
    "        \n",
    "        #use the un half to calculate fn half \n",
    "        fhalf1 = f1_func(uhalf1, uhalf2, uhalf3)\n",
    "        fhalf2 = f2_func(uhalf1, uhalf2, uhalf3)\n",
    "        fhalf3 = f3_func(uhalf1, uhalf2, uhalf3)\n",
    "        \n",
    "        #the third step use the fn half to get un+1\n",
    "        un1[i,1:] = u1[1:] - (dt/dx)*(fhalf1[1:] - fhalf1[:-1])\n",
    "        un2[i,1:] = u2[1:] - (dt/dx)*(fhalf2[1:] - fhalf2[:-1])\n",
    "        un3[i,1:] = u3[1:] - (dt/dx)*(fhalf3[1:] - fhalf3[:-1])\n",
    "        \n",
    "        u1 = un1[i].copy()\n",
    "        u2 = un2[i].copy()\n",
    "        u3 = un3[i].copy()\n",
    "        \n",
    "       \n",
    "    return un1, un2, un3\n",
    "\n",
    "\n",
    "\n",
    "        #I tried to combine 3 equ in to one func but failed how to express the time step?\n",
    "        #Uhalf[:-1] = 0.5*(U[:-1] + U[1:]) - (dt/(2*dx))*(F[1:] - F[:-1])\n",
    "        #Fhalf = [rho*Uhalf, rho*Uhalf**2+p, (rho*eT+p)*Uhalf]\n",
    "        #Un[1:] = U[1:] - (dt/dx)*(Fhalf[1:] - Fhalf[:-1])\n"
   ]
  },
  {
   "cell_type": "code",
   "execution_count": 382,
   "metadata": {
    "collapsed": false
   },
   "outputs": [],
   "source": [
    "un = func(u1, u2, u3, dx, dt, nx, nt)"
   ]
  },
  {
   "cell_type": "code",
   "execution_count": 383,
   "metadata": {
    "collapsed": false
   },
   "outputs": [],
   "source": [
    "#first line is rho, and we need time at 0.01s and x=2.5m\n",
    "rho = un[0][int(t/dt),int((10+2.5)/dx)]\n",
    "#second line is rho*u, and we need time at 0.01s and x=2.5m\n",
    "rhou = un[1][int(t/dt),int((10+2.5)/dx)]\n",
    "#third line is rho*eT, and we need time at 0.01s and x=2.5m\n",
    "rhoeT = un[2][int(t/dt),int((10+2.5)/dx)]"
   ]
  },
  {
   "cell_type": "code",
   "execution_count": 384,
   "metadata": {
    "collapsed": false
   },
   "outputs": [
    {
     "name": "stdout",
     "output_type": "stream",
     "text": [
      "At x=2.5m, velocity is 292.61 kg/m^3\n"
     ]
    }
   ],
   "source": [
    "u = rhou/rho\n",
    "print('At x=2.5m, velocity is {:.2f} kg/m^3'.format(u))"
   ]
  },
  {
   "cell_type": "code",
   "execution_count": 385,
   "metadata": {
    "collapsed": false
   },
   "outputs": [
    {
     "name": "stdout",
     "output_type": "stream",
     "text": [
      "At x=2.5m, pressure is 30250.89 N/m^2\n"
     ]
    }
   ],
   "source": [
    "eT = rhoeT/rho\n",
    "p = (rho*eT - rho*0.5*u**2)*(gamma-1)\n",
    "print('At x=2.5m, pressure is {:.2f} N/m^2'.format(p))"
   ]
  },
  {
   "cell_type": "code",
   "execution_count": 386,
   "metadata": {
    "collapsed": false
   },
   "outputs": [
    {
     "name": "stdout",
     "output_type": "stream",
     "text": [
      "At x=2.5m,density is 0.37 kg/m^3\n"
     ]
    }
   ],
   "source": [
    "print('At x=2.5m,density is {:.2f} kg/m^3'.format(rho))"
   ]
  },
  {
   "cell_type": "code",
   "execution_count": null,
   "metadata": {
    "collapsed": true
   },
   "outputs": [],
   "source": []
  },
  {
   "cell_type": "code",
   "execution_count": null,
   "metadata": {
    "collapsed": true
   },
   "outputs": [],
   "source": []
  }
 ],
 "metadata": {
  "kernelspec": {
   "display_name": "Python [default]",
   "language": "python",
   "name": "python3"
  },
  "language_info": {
   "codemirror_mode": {
    "name": "ipython",
    "version": 3
   },
   "file_extension": ".py",
   "mimetype": "text/x-python",
   "name": "python",
   "nbconvert_exporter": "python",
   "pygments_lexer": "ipython3",
   "version": "3.5.2"
  }
 },
 "nbformat": 4,
 "nbformat_minor": 1
}
